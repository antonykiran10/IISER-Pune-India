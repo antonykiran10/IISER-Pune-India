{
  "nbformat": 4,
  "nbformat_minor": 0,
  "metadata": {
    "accelerator": "GPU",
    "colab": {
      "name": "VGG_Transfer_learning.ipynb",
      "provenance": [],
      "collapsed_sections": [],
      "include_colab_link": true
    },
    "kernelspec": {
      "display_name": "Python 3",
      "name": "python3"
    }
  },
  "cells": [
    {
      "cell_type": "markdown",
      "metadata": {
        "id": "view-in-github",
        "colab_type": "text"
      },
      "source": [
        "<a href=\"https://colab.research.google.com/github/Anantha-Rao12/IISER-Pune-India/blob/master/VGG_Transfer_learning.ipynb\" target=\"_parent\"><img src=\"https://colab.research.google.com/assets/colab-badge.svg\" alt=\"Open In Colab\"/></a>"
      ]
    },
    {
      "cell_type": "markdown",
      "metadata": {
        "id": "UQRyd_JwnxbK"
      },
      "source": [
        "## Step 1 : Download the dataset and unzip it into two directories"
      ]
    },
    {
      "cell_type": "code",
      "metadata": {
        "id": "0lKRtk0eEgYd",
        "outputId": "978b8077-585f-442d-8b99-ec4ec499e177",
        "colab": {
          "base_uri": "https://localhost:8080/",
          "height": 208
        }
      },
      "source": [
        "!wget https://ceb.nlm.nih.gov/proj/malaria/cell_images.zip"
      ],
      "execution_count": 1,
      "outputs": [
        {
          "output_type": "stream",
          "text": [
            "--2020-10-25 08:50:47--  https://ceb.nlm.nih.gov/proj/malaria/cell_images.zip\n",
            "Resolving ceb.nlm.nih.gov (ceb.nlm.nih.gov)... 130.14.52.15, 2607:f220:41e:7052::15\n",
            "Connecting to ceb.nlm.nih.gov (ceb.nlm.nih.gov)|130.14.52.15|:443... connected.\n",
            "HTTP request sent, awaiting response... 200 OK\n",
            "Length: 353452851 (337M) [application/zip]\n",
            "Saving to: ‘cell_images.zip’\n",
            "\n",
            "cell_images.zip     100%[===================>] 337.08M   105MB/s    in 3.2s    \n",
            "\n",
            "2020-10-25 08:50:50 (104 MB/s) - ‘cell_images.zip’ saved [353452851/353452851]\n",
            "\n"
          ],
          "name": "stdout"
        }
      ]
    },
    {
      "cell_type": "code",
      "metadata": {
        "id": "nr5Y9jfrRAHF"
      },
      "source": [
        "!unzip cell_images.zip"
      ],
      "execution_count": null,
      "outputs": []
    },
    {
      "cell_type": "code",
      "metadata": {
        "id": "pyM-at45RC_W",
        "outputId": "e110514f-a9dc-4bd5-a945-898d0dc58a8b",
        "colab": {
          "base_uri": "https://localhost:8080/",
          "height": 295
        }
      },
      "source": [
        "## We install tree to look at the Directory structure after download\n",
        "!apt install tree"
      ],
      "execution_count": 3,
      "outputs": [
        {
          "output_type": "stream",
          "text": [
            "Reading package lists... Done\n",
            "Building dependency tree       \n",
            "Reading state information... Done\n",
            "The following NEW packages will be installed:\n",
            "  tree\n",
            "0 upgraded, 1 newly installed, 0 to remove and 21 not upgraded.\n",
            "Need to get 40.7 kB of archives.\n",
            "After this operation, 105 kB of additional disk space will be used.\n",
            "Get:1 http://archive.ubuntu.com/ubuntu bionic/universe amd64 tree amd64 1.7.0-5 [40.7 kB]\n",
            "Fetched 40.7 kB in 0s (165 kB/s)\n",
            "Selecting previously unselected package tree.\n",
            "(Reading database ... 144611 files and directories currently installed.)\n",
            "Preparing to unpack .../tree_1.7.0-5_amd64.deb ...\n",
            "Unpacking tree (1.7.0-5) ...\n",
            "Setting up tree (1.7.0-5) ...\n",
            "Processing triggers for man-db (2.8.3-2ubuntu0.1) ...\n"
          ],
          "name": "stdout"
        }
      ]
    },
    {
      "cell_type": "code",
      "metadata": {
        "id": "OuRn7cHhREwV",
        "outputId": "ab03cb9c-bc0a-4dd8-cc36-bacdc525d7b8",
        "colab": {
          "base_uri": "https://localhost:8080/",
          "height": 104
        }
      },
      "source": [
        "# Show directory structure\n",
        "!tree --dirsfirst --filelimit 10 /content/cell_images/"
      ],
      "execution_count": 4,
      "outputs": [
        {
          "output_type": "stream",
          "text": [
            "/content/cell_images/\n",
            "├── Parasitized [13780 entries exceeds filelimit, not opening dir]\n",
            "└── Uninfected [13780 entries exceeds filelimit, not opening dir]\n",
            "\n",
            "2 directories, 0 files\n"
          ],
          "name": "stdout"
        }
      ]
    },
    {
      "cell_type": "code",
      "metadata": {
        "id": "JZa8f_gmRKf2",
        "outputId": "0ef2e274-e999-4264-c57d-4c6a2e0c50d9",
        "colab": {
          "base_uri": "https://localhost:8080/",
          "height": 34
        }
      },
      "source": [
        "# Tensorflow and Keras Utils for Deep Learning\n",
        "\n",
        "import tensorflow as tf\n",
        "from tensorflow import keras\n",
        "from tensorflow.keras import models, layers\n",
        "from tensorflow.keras import Sequential \n",
        "from tensorflow.keras.layers import Dense, Conv2D, MaxPool2D, Flatten, ZeroPadding2D, Activation, Dropout\n",
        "from tensorflow.keras.preprocessing.image import ImageDataGenerator\n",
        "from keras.models import Model\n",
        "from keras.applications.vgg16 import VGG16\n",
        "from keras.applications.vgg16 import preprocess_input\n",
        "\n",
        "# Numpy for Matrix manipulations\n",
        "import numpy as np\n",
        "\n",
        "# Matplotlib and Seaborn for data visualization\n",
        "import matplotlib.pyplot as plt\n",
        "import seaborn as sns ; sns.set()\n",
        "\n",
        "# Sklearn for performance metrics and Model auxillary functions\n",
        "from sklearn.model_selection import train_test_split\n",
        "\n",
        "\n",
        "print('Tensorflow version:',tf.__version__)"
      ],
      "execution_count": 6,
      "outputs": [
        {
          "output_type": "stream",
          "text": [
            "Tensorflow version: 2.3.0\n"
          ],
          "name": "stdout"
        }
      ]
    },
    {
      "cell_type": "markdown",
      "metadata": {
        "id": "q8V3jJi2o8aA"
      },
      "source": [
        "## Step 2 : Data Preprocessing"
      ]
    },
    {
      "cell_type": "code",
      "metadata": {
        "id": "BRdm2_NWRPBO"
      },
      "source": [
        "data_directory = '/content/cell_images'\n",
        "image_width = 100\n",
        "image_height = 100\n",
        "m = 27558\n",
        "datagen = ImageDataGenerator(rescale=1/255.0, horizontal_flip=True, shear_range=0.2 )  "
      ],
      "execution_count": 10,
      "outputs": []
    },
    {
      "cell_type": "code",
      "metadata": {
        "id": "S0IrzdNXRTQl",
        "outputId": "ca55632e-cd92-498d-d3bb-3d3a679fc933",
        "colab": {
          "base_uri": "https://localhost:8080/",
          "height": 34
        }
      },
      "source": [
        "train_data_generator = datagen.flow_from_directory(directory='/content/cell_images', target_size=(image_width,image_height),\n",
        "                                                   class_mode = 'binary', batch_size = m, shuffle=True, subset='training'\n",
        "                                                   )"
      ],
      "execution_count": 11,
      "outputs": [
        {
          "output_type": "stream",
          "text": [
            "Found 27558 images belonging to 2 classes.\n"
          ],
          "name": "stdout"
        }
      ]
    },
    {
      "cell_type": "code",
      "metadata": {
        "id": "A-WrwzWnBHq4",
        "outputId": "de11147e-b6a8-4f0b-e428-c3ccf7e8c28f",
        "colab": {
          "base_uri": "https://localhost:8080/",
          "height": 52
        }
      },
      "source": [
        "# We generate the X and Y datasets from the datagenerator object and preprocess them\n",
        "\n",
        "X = train_data_generator[0][0]\n",
        "Y = train_data_generator[0][1]\n",
        "print(X.shape)\n",
        "print(Y.shape)"
      ],
      "execution_count": 12,
      "outputs": [
        {
          "output_type": "stream",
          "text": [
            "(27558, 100, 100, 3)\n",
            "(27558,)\n"
          ],
          "name": "stdout"
        }
      ]
    },
    {
      "cell_type": "markdown",
      "metadata": {
        "id": "kq6sunMQpki7"
      },
      "source": [
        "## Step 3 : Building the model"
      ]
    },
    {
      "cell_type": "code",
      "metadata": {
        "id": "icp43iLIAIEz",
        "outputId": "9f3871b9-2291-432e-b025-1120fb99e979",
        "colab": {
          "base_uri": "https://localhost:8080/",
          "height": 52
        }
      },
      "source": [
        "# Load the VGG base model\n",
        "vgg = VGG16(input_shape=[image_width, image_height] + [3], weights='imagenet', include_top=False)"
      ],
      "execution_count": 13,
      "outputs": [
        {
          "output_type": "stream",
          "text": [
            "Downloading data from https://storage.googleapis.com/tensorflow/keras-applications/vgg16/vgg16_weights_tf_dim_ordering_tf_kernels_notop.h5\n",
            "58892288/58889256 [==============================] - 1s 0us/step\n"
          ],
          "name": "stdout"
        }
      ]
    },
    {
      "cell_type": "code",
      "metadata": {
        "id": "4Okn1_gsAe9v"
      },
      "source": [
        "# Here, we freeze all layers and parameters in the VGG model\n",
        "# This is done to prevent any loss of parameters present in the native VGG model\n",
        "\n",
        "for layer in vgg.layers:\n",
        "  layer.trainable = False"
      ],
      "execution_count": 14,
      "outputs": []
    },
    {
      "cell_type": "code",
      "metadata": {
        "id": "usbvAb7WBYI1"
      },
      "source": [
        "# We add a classification node after the VGG Model\n",
        "\n",
        "classifier = Flatten()(vgg.output)\n",
        "prediction = Dense(1, activation='sigmoid')(classifier)"
      ],
      "execution_count": 15,
      "outputs": []
    },
    {
      "cell_type": "code",
      "metadata": {
        "id": "BXOBz-3R4yfm"
      },
      "source": [
        "# We build the model by combining the base VGG model and our classification node\n",
        "\n",
        "model = Model(inputs=vgg.input, outputs=prediction)"
      ],
      "execution_count": 16,
      "outputs": []
    },
    {
      "cell_type": "code",
      "metadata": {
        "id": "eShv_52c2GJw"
      },
      "source": [
        "model.compile(loss='binary_crossentropy',\n",
        "              optimizer=keras.optimizers.Adam(lr=3e-4, beta_1=0.9, beta_2=0.999, epsilon=None, decay=0.0, amsgrad=False),\n",
        "              metrics=['accuracy'])"
      ],
      "execution_count": 17,
      "outputs": []
    },
    {
      "cell_type": "code",
      "metadata": {
        "id": "iiYl3HMNNFQc",
        "outputId": "8277e298-a03d-435d-ba1a-7aa4acbf95a8",
        "colab": {
          "base_uri": "https://localhost:8080/",
          "height": 885
        }
      },
      "source": [
        "## Summary of the Model archtecture \n",
        "model.summary()"
      ],
      "execution_count": 18,
      "outputs": [
        {
          "output_type": "stream",
          "text": [
            "Model: \"functional_1\"\n",
            "_________________________________________________________________\n",
            "Layer (type)                 Output Shape              Param #   \n",
            "=================================================================\n",
            "input_1 (InputLayer)         [(None, 100, 100, 3)]     0         \n",
            "_________________________________________________________________\n",
            "block1_conv1 (Conv2D)        (None, 100, 100, 64)      1792      \n",
            "_________________________________________________________________\n",
            "block1_conv2 (Conv2D)        (None, 100, 100, 64)      36928     \n",
            "_________________________________________________________________\n",
            "block1_pool (MaxPooling2D)   (None, 50, 50, 64)        0         \n",
            "_________________________________________________________________\n",
            "block2_conv1 (Conv2D)        (None, 50, 50, 128)       73856     \n",
            "_________________________________________________________________\n",
            "block2_conv2 (Conv2D)        (None, 50, 50, 128)       147584    \n",
            "_________________________________________________________________\n",
            "block2_pool (MaxPooling2D)   (None, 25, 25, 128)       0         \n",
            "_________________________________________________________________\n",
            "block3_conv1 (Conv2D)        (None, 25, 25, 256)       295168    \n",
            "_________________________________________________________________\n",
            "block3_conv2 (Conv2D)        (None, 25, 25, 256)       590080    \n",
            "_________________________________________________________________\n",
            "block3_conv3 (Conv2D)        (None, 25, 25, 256)       590080    \n",
            "_________________________________________________________________\n",
            "block3_pool (MaxPooling2D)   (None, 12, 12, 256)       0         \n",
            "_________________________________________________________________\n",
            "block4_conv1 (Conv2D)        (None, 12, 12, 512)       1180160   \n",
            "_________________________________________________________________\n",
            "block4_conv2 (Conv2D)        (None, 12, 12, 512)       2359808   \n",
            "_________________________________________________________________\n",
            "block4_conv3 (Conv2D)        (None, 12, 12, 512)       2359808   \n",
            "_________________________________________________________________\n",
            "block4_pool (MaxPooling2D)   (None, 6, 6, 512)         0         \n",
            "_________________________________________________________________\n",
            "block5_conv1 (Conv2D)        (None, 6, 6, 512)         2359808   \n",
            "_________________________________________________________________\n",
            "block5_conv2 (Conv2D)        (None, 6, 6, 512)         2359808   \n",
            "_________________________________________________________________\n",
            "block5_conv3 (Conv2D)        (None, 6, 6, 512)         2359808   \n",
            "_________________________________________________________________\n",
            "block5_pool (MaxPooling2D)   (None, 3, 3, 512)         0         \n",
            "_________________________________________________________________\n",
            "flatten (Flatten)            (None, 4608)              0         \n",
            "_________________________________________________________________\n",
            "dense (Dense)                (None, 1)                 4609      \n",
            "=================================================================\n",
            "Total params: 14,719,297\n",
            "Trainable params: 4,609\n",
            "Non-trainable params: 14,714,688\n",
            "_________________________________________________________________\n"
          ],
          "name": "stdout"
        }
      ]
    },
    {
      "cell_type": "code",
      "metadata": {
        "id": "7GIuvxRIJGzx",
        "outputId": "9706b22d-6bb9-4459-eed1-c0436b81394e",
        "colab": {
          "base_uri": "https://localhost:8080/",
          "height": 364
        }
      },
      "source": [
        "results = model.fit(X,Y, epochs=10, validation_split = 0.2)"
      ],
      "execution_count": 19,
      "outputs": [
        {
          "output_type": "stream",
          "text": [
            "Epoch 1/10\n",
            "689/689 [==============================] - 28s 40ms/step - loss: 0.3298 - accuracy: 0.8787 - val_loss: 0.2378 - val_accuracy: 0.9169\n",
            "Epoch 2/10\n",
            "689/689 [==============================] - 27s 40ms/step - loss: 0.2189 - accuracy: 0.9211 - val_loss: 0.1950 - val_accuracy: 0.9307\n",
            "Epoch 3/10\n",
            "689/689 [==============================] - 28s 40ms/step - loss: 0.1928 - accuracy: 0.9321 - val_loss: 0.1781 - val_accuracy: 0.9360\n",
            "Epoch 4/10\n",
            "689/689 [==============================] - 28s 41ms/step - loss: 0.1779 - accuracy: 0.9372 - val_loss: 0.1708 - val_accuracy: 0.9347\n",
            "Epoch 5/10\n",
            "689/689 [==============================] - 28s 41ms/step - loss: 0.1697 - accuracy: 0.9387 - val_loss: 0.1660 - val_accuracy: 0.9341\n",
            "Epoch 6/10\n",
            "689/689 [==============================] - 29s 41ms/step - loss: 0.1629 - accuracy: 0.9408 - val_loss: 0.1628 - val_accuracy: 0.9341\n",
            "Epoch 7/10\n",
            "689/689 [==============================] - 29s 42ms/step - loss: 0.1586 - accuracy: 0.9418 - val_loss: 0.1541 - val_accuracy: 0.9458\n",
            "Epoch 8/10\n",
            "689/689 [==============================] - 29s 42ms/step - loss: 0.1547 - accuracy: 0.9451 - val_loss: 0.1573 - val_accuracy: 0.9369\n",
            "Epoch 9/10\n",
            "689/689 [==============================] - 29s 42ms/step - loss: 0.1512 - accuracy: 0.9457 - val_loss: 0.1488 - val_accuracy: 0.9438\n",
            "Epoch 10/10\n",
            "689/689 [==============================] - 29s 42ms/step - loss: 0.1480 - accuracy: 0.9458 - val_loss: 0.1471 - val_accuracy: 0.9452\n"
          ],
          "name": "stdout"
        }
      ]
    },
    {
      "cell_type": "markdown",
      "metadata": {
        "id": "FHOKVkOzrPIt"
      },
      "source": [
        "## Step 5 : Plotting Model Performance"
      ]
    },
    {
      "cell_type": "code",
      "metadata": {
        "id": "n-2QQ0IcKief",
        "outputId": "829f6ca2-83c9-4d0c-af9e-5382bddeb32b",
        "colab": {
          "base_uri": "https://localhost:8080/",
          "height": 725
        }
      },
      "source": [
        "plt.figure(figsize=(10, 10))\n",
        "plt.subplot(2, 1, 1)\n",
        "plt.plot(results.history['accuracy'], label='Training Accuracy')\n",
        "plt.plot(results.history['val_accuracy'], label='Validation Accuracy')\n",
        "#plt.ylim([0.8, 1])\n",
        "plt.legend(loc='lower right')\n",
        "plt.xlabel('Epoch number' )\n",
        "plt.ylabel('Accuracy')\n",
        "plt.title('Training and Validation Accuracy for VGG16')\n",
        "\n",
        "plt.subplot(2, 1, 2)\n",
        "plt.plot(results.history['loss'], label='Training Loss')\n",
        "plt.plot(results.history['val_loss'], label='Validation Loss')\n",
        "#plt.ylim([0, 1.0])\n",
        "plt.legend(loc='upper right')\n",
        "plt.title('Training and Validation Loss for VGG16')\n",
        "plt.xlabel('Epoch number')\n",
        "plt.ylabel('Entropic Loss')\n",
        "\n",
        "plt.tight_layout()\n",
        "plt.show()"
      ],
      "execution_count": 22,
      "outputs": [
        {
          "output_type": "display_data",
          "data": {
            "image/png": "[encoded data removed]",
            "text/plain": [
              "<Figure size 720x720 with 2 Axes>"
            ]
          },
          "metadata": {
            "tags": []
          }
        }
      ]
    },
    {
      "cell_type": "code",
      "metadata": {
        "id": "ujjVsMoLMpQg"
      },
      "source": [
        "model.save('/content/drive/My Drive/CNN_malaria/Vgg_delema_detect.h5')"
      ],
      "execution_count": null,
      "outputs": []
    },
    {
      "cell_type": "code",
      "metadata": {
        "id": "ApJTJ19kMzUy"
      },
      "source": [
        ""
      ],
      "execution_count": null,
      "outputs": []
    }
  ]
}
