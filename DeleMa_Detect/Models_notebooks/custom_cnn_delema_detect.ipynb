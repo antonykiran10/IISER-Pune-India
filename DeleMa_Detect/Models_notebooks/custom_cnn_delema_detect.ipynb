{
  "nbformat": 4,
  "nbformat_minor": 0,
  "metadata": {
    "colab": {
      "name": "custom_cnn_delema_detect.ipynb",
      "provenance": [],
      "mount_file_id": "1NuaZW_wz7ABGFmPy2B84aedcK-HceE2M",
      "authorship_tag": "ABX9TyPdGlRBwUqYww58aNCDbR6L",
      "include_colab_link": true
    },
    "kernelspec": {
      "name": "python3",
      "display_name": "Python 3"
    },
    "accelerator": "GPU"
  },
  "cells": [
    {
      "cell_type": "markdown",
      "metadata": {
        "id": "view-in-github",
        "colab_type": "text"
      },
      "source": [
        "<a href=\"https://colab.research.google.com/github/Anantha-Rao12/IISER-Pune-India/blob/master/custom_cnn_delema_detect.ipynb\" target=\"_parent\"><img src=\"https://colab.research.google.com/assets/colab-badge.svg\" alt=\"Open In Colab\"/></a>"
      ]
    },
    {
      "cell_type": "markdown",
      "metadata": {
        "id": "odHnCrgRDJH3"
      },
      "source": [
        "# Step 1 : Downaload the dataset and Unzip into two directories"
      ]
    },
    {
      "cell_type": "code",
      "metadata": {
        "id": "R2N3aLwsF5I3",
        "outputId": "dff7846e-c0f7-4048-fff4-3d72e6bdaf54",
        "colab": {
          "base_uri": "https://localhost:8080/",
          "height": 208
        }
      },
      "source": [
        "!wget https://ceb.nlm.nih.gov/proj/malaria/cell_images.zip"
      ],
      "execution_count": 1,
      "outputs": [
        {
          "output_type": "stream",
          "text": [
            "--2020-10-25 04:22:40--  https://ceb.nlm.nih.gov/proj/malaria/cell_images.zip\n",
            "Resolving ceb.nlm.nih.gov (ceb.nlm.nih.gov)... 130.14.52.15, 2607:f220:41e:7052::15\n",
            "Connecting to ceb.nlm.nih.gov (ceb.nlm.nih.gov)|130.14.52.15|:443... connected.\n",
            "HTTP request sent, awaiting response... 200 OK\n",
            "Length: 353452851 (337M) [application/zip]\n",
            "Saving to: ‘cell_images.zip’\n",
            "\n",
            "cell_images.zip     100%[===================>] 337.08M  42.8MB/s    in 8.4s    \n",
            "\n",
            "2020-10-25 04:22:49 (40.2 MB/s) - ‘cell_images.zip’ saved [353452851/353452851]\n",
            "\n"
          ],
          "name": "stdout"
        }
      ]
    },
    {
      "cell_type": "code",
      "metadata": {
        "id": "6SCMsysIGZk0"
      },
      "source": [
        "!unzip cell_images.zip"
      ],
      "execution_count": null,
      "outputs": []
    },
    {
      "cell_type": "code",
      "metadata": {
        "id": "3-WtlT-gGulH",
        "outputId": "0cd1a8c8-05e5-47d4-b01e-7c280446728a",
        "colab": {
          "base_uri": "https://localhost:8080/",
          "height": 104
        }
      },
      "source": [
        "!apt install tree"
      ],
      "execution_count": 4,
      "outputs": [
        {
          "output_type": "stream",
          "text": [
            "Reading package lists... Done\n",
            "Building dependency tree       \n",
            "Reading state information... Done\n",
            "tree is already the newest version (1.7.0-5).\n",
            "0 upgraded, 0 newly installed, 0 to remove and 21 not upgraded.\n"
          ],
          "name": "stdout"
        }
      ]
    },
    {
      "cell_type": "code",
      "metadata": {
        "id": "JdiygXyUG-Cz",
        "outputId": "1789232f-890e-4d9c-d213-1a9cd49025e9",
        "colab": {
          "base_uri": "https://localhost:8080/",
          "height": 104
        }
      },
      "source": [
        "# Show directory structure\n",
        "!tree --dirsfirst --filelimit 10 /content/cell_images/"
      ],
      "execution_count": 5,
      "outputs": [
        {
          "output_type": "stream",
          "text": [
            "/content/cell_images/\n",
            "├── Parasitized [13780 entries exceeds filelimit, not opening dir]\n",
            "└── Uninfected [13780 entries exceeds filelimit, not opening dir]\n",
            "\n",
            "2 directories, 0 files\n"
          ],
          "name": "stdout"
        }
      ]
    },
    {
      "cell_type": "code",
      "metadata": {
        "id": "SSHzvnu2HFph",
        "outputId": "28e9a479-b3e3-4c32-ce78-2eb563469564",
        "colab": {
          "base_uri": "https://localhost:8080/",
          "height": 34
        }
      },
      "source": [
        "#Tensorflow and Keras Utils \n",
        "import tensorflow as tf\n",
        "from tensorflow import keras\n",
        "from tensorflow.keras import models, layers\n",
        "from tensorflow.keras import Sequential \n",
        "from tensorflow.keras.layers import Dense, Conv2D, MaxPooling2D, Flatten, BatchNormalization, Activation, Dropout\n",
        "from tensorflow.keras.preprocessing.image import ImageDataGenerator\n",
        "from tensorflow.keras import optimizers\n",
        "\n",
        "# Numpy for Matrix Manipulatons \n",
        "import numpy as np\n",
        "\n",
        "# Matplotlib and Seaborn for visualization\n",
        "import matplotlib.pyplot as plt\n",
        "import seaborn as sns ; sns.set()\n",
        "\n",
        "# Sklearn for Model Utils\n",
        "from sklearn.model_selection import train_test_split\n",
        "print('Tensorflow Version:',tf.__version__)"
      ],
      "execution_count": 6,
      "outputs": [
        {
          "output_type": "stream",
          "text": [
            "Tensorflow Version: 2.3.0\n"
          ],
          "name": "stdout"
        }
      ]
    },
    {
      "cell_type": "markdown",
      "metadata": {
        "id": "1Ml2QbVPD3FX"
      },
      "source": [
        "# Step 2 : Data Preprocessing"
      ]
    },
    {
      "cell_type": "code",
      "metadata": {
        "id": "1NBphK5ZHQmo"
      },
      "source": [
        "data_directory = '/content/cell_images'\n",
        "image_width = 64\n",
        "image_height = 64\n",
        "m = 27558\n",
        "\n",
        "# Data Augmentation\n",
        "datagen = ImageDataGenerator(shear_range=0.2,zoom_range=0.2,horizontal_flip=True,vertical_flip=True,rescale=1/255.0)  "
      ],
      "execution_count": 7,
      "outputs": []
    },
    {
      "cell_type": "code",
      "metadata": {
        "id": "5P7Wm-dTHS_4",
        "outputId": "2d94480c-db81-4040-c4a3-c822cf60c136",
        "colab": {
          "base_uri": "https://localhost:8080/",
          "height": 34
        }
      },
      "source": [
        "train_data_generator = datagen.flow_from_directory(directory='/content/cell_images', target_size=(image_width,image_height),\n",
        "                                                   class_mode = 'binary', batch_size = m, shuffle=True, subset='training')\n",
        "                            \n",
        "\n",
        "# We use Data Generator to create a tensor dataset of all images form the given directories"
      ],
      "execution_count": 9,
      "outputs": [
        {
          "output_type": "stream",
          "text": [
            "Found 27558 images belonging to 2 classes.\n"
          ],
          "name": "stdout"
        }
      ]
    },
    {
      "cell_type": "code",
      "metadata": {
        "id": "ZDRnurXFHgpj",
        "outputId": "b6e175ff-a588-413e-e98f-9d57372d70a8",
        "colab": {
          "base_uri": "https://localhost:8080/",
          "height": 52
        }
      },
      "source": [
        "X = train_data_generator[0][0]\n",
        "Y = train_data_generator[0][1]\n",
        "\n",
        "#  Here we separate the X and Y datasets from the Training data directories\n",
        "print(X.shape)\n",
        "print(Y.shape)"
      ],
      "execution_count": 10,
      "outputs": [
        {
          "output_type": "stream",
          "text": [
            "(27558, 64, 64, 3)\n",
            "(27558,)\n"
          ],
          "name": "stdout"
        }
      ]
    },
    {
      "cell_type": "code",
      "metadata": {
        "id": "uAiXq5MdX69d"
      },
      "source": [
        "X_train, X_test, y_train, y_test = train_test_split(X, Y, test_size=0.2, random_state=42)\n",
        " \n",
        "# We perform a 80/20 Train test Split of the Dataset"
      ],
      "execution_count": 11,
      "outputs": []
    },
    {
      "cell_type": "code",
      "metadata": {
        "id": "8LHCiMNpI6HC",
        "outputId": "c253870b-bf81-4b86-dc60-67e855b80988",
        "colab": {
          "base_uri": "https://localhost:8080/",
          "height": 52
        }
      },
      "source": [
        "print(X_train.shape, y_train.shape) \n",
        "# use 80% data set for training\n",
        "\n",
        "print(X_test.shape,y_test.shape) \n",
        "# use this data for testing final score"
      ],
      "execution_count": 12,
      "outputs": [
        {
          "output_type": "stream",
          "text": [
            "(22046, 64, 64, 3) (22046,)\n",
            "(5512, 64, 64, 3) (5512,)\n"
          ],
          "name": "stdout"
        }
      ]
    },
    {
      "cell_type": "markdown",
      "metadata": {
        "id": "gpN2kABeUPtB"
      },
      "source": [
        "# Step 3 : Building the Model"
      ]
    },
    {
      "cell_type": "code",
      "metadata": {
        "id": "nr7Pp9A1FXJ1"
      },
      "source": [
        "def build_model(X_train, y_train, X_val, y_val,epochs): \n",
        "\n",
        "    # Inspired from LENET 5 Architecture\n",
        "    \n",
        "    model = Sequential()\n",
        "\n",
        "    model.add(Conv2D(6, (5,5), activation = 'relu', input_shape = X_train.shape[1:]))\n",
        "    model.add(MaxPooling2D(pool_size=(2,2), strides=(2,2)))\n",
        "    model.add(BatchNormalization(axis = -1))\n",
        "    model.add(Dropout(0.2))\n",
        "\n",
        "    model.add(Conv2D(10, (5,5), activation = 'relu'))\n",
        "    model.add(MaxPooling2D((2,2),strides=(1,1)))\n",
        "    model.add(BatchNormalization(axis = -1))\n",
        "    model.add(Dropout(0.2))\n",
        "\n",
        "    model.add(Conv2D(16, (5,5), activation = 'relu'))\n",
        "    model.add(MaxPooling2D((2,2),strides=(1,1)))\n",
        "    model.add(BatchNormalization(axis = -1))\n",
        "    model.add(Dropout(0.2))\n",
        "\n",
        "    model.add(Flatten())\n",
        "\n",
        "    model.add(Dense(120, activation = 'relu'))\n",
        "    model.add(BatchNormalization(axis = -1))\n",
        "    model.add(Dropout(0.5))\n",
        "\n",
        "    model.add(Dense(84, activation = 'relu'))\n",
        "    model.add(BatchNormalization(axis = -1))\n",
        "    model.add(Dropout(0.5))\n",
        "\n",
        "    model.add(Dense(10, activation = 'relu'))\n",
        "    model.add(BatchNormalization(axis = -1))\n",
        "\n",
        "    model.add(Dense(1, activation = 'sigmoid'))\n",
        "\n",
        "    lr_schedule = keras.optimizers.schedules.ExponentialDecay(\n",
        "                                initial_learning_rate=3e-4,\n",
        "                                decay_steps=10000,\n",
        "                                decay_rate=0.9)\n",
        "\n",
        "    model.compile(optimizer=keras.optimizers.Adam(learning_rate=lr_schedule),\n",
        "              loss=\"binary_crossentropy\",\n",
        "              metrics=[\"accuracy\"])\n",
        "\n",
        "    model.fit(X_train, y_train, batch_size=128, epochs=epochs, validation_data = (X_val, y_val))\n",
        "\n",
        "    return model"
      ],
      "execution_count": 30,
      "outputs": []
    },
    {
      "cell_type": "markdown",
      "metadata": {
        "id": "l1Ppbak0UTc6"
      },
      "source": [
        "# Step 4 : Training the Model"
      ]
    },
    {
      "cell_type": "code",
      "metadata": {
        "id": "KpyEa86hGclb",
        "outputId": "17f0133b-92b0-489c-bccc-08dac7758c02",
        "colab": {
          "base_uri": "https://localhost:8080/",
          "height": 712
        }
      },
      "source": [
        "results = build_model(X_train, y_train,X_test, y_test, 20)"
      ],
      "execution_count": 44,
      "outputs": [
        {
          "output_type": "stream",
          "text": [
            "Epoch 1/20\n",
            "173/173 [==============================] - 3s 14ms/step - loss: 0.5636 - accuracy: 0.7135 - val_loss: 1.5220 - val_accuracy: 0.4973\n",
            "Epoch 2/20\n",
            "173/173 [==============================] - 2s 13ms/step - loss: 0.3061 - accuracy: 0.8806 - val_loss: 1.7351 - val_accuracy: 0.4978\n",
            "Epoch 3/20\n",
            "173/173 [==============================] - 2s 12ms/step - loss: 0.2396 - accuracy: 0.9136 - val_loss: 0.4858 - val_accuracy: 0.7981\n",
            "Epoch 4/20\n",
            "173/173 [==============================] - 2s 12ms/step - loss: 0.2091 - accuracy: 0.9289 - val_loss: 0.2688 - val_accuracy: 0.8926\n",
            "Epoch 5/20\n",
            "173/173 [==============================] - 2s 12ms/step - loss: 0.1990 - accuracy: 0.9333 - val_loss: 0.2237 - val_accuracy: 0.9040\n",
            "Epoch 6/20\n",
            "173/173 [==============================] - 2s 12ms/step - loss: 0.1868 - accuracy: 0.9384 - val_loss: 0.2229 - val_accuracy: 0.9227\n",
            "Epoch 7/20\n",
            "173/173 [==============================] - 2s 12ms/step - loss: 0.1788 - accuracy: 0.9413 - val_loss: 0.2025 - val_accuracy: 0.9202\n",
            "Epoch 8/20\n",
            "173/173 [==============================] - 2s 12ms/step - loss: 0.1746 - accuracy: 0.9443 - val_loss: 0.1862 - val_accuracy: 0.9389\n",
            "Epoch 9/20\n",
            "173/173 [==============================] - 2s 12ms/step - loss: 0.1722 - accuracy: 0.9436 - val_loss: 0.1778 - val_accuracy: 0.9372\n",
            "Epoch 10/20\n",
            "173/173 [==============================] - 2s 12ms/step - loss: 0.1690 - accuracy: 0.9465 - val_loss: 0.1936 - val_accuracy: 0.9272\n",
            "Epoch 11/20\n",
            "173/173 [==============================] - 2s 12ms/step - loss: 0.1588 - accuracy: 0.9492 - val_loss: 0.1618 - val_accuracy: 0.9434\n",
            "Epoch 12/20\n",
            "173/173 [==============================] - 2s 12ms/step - loss: 0.1591 - accuracy: 0.9488 - val_loss: 0.1813 - val_accuracy: 0.9369\n",
            "Epoch 13/20\n",
            "173/173 [==============================] - 2s 12ms/step - loss: 0.1596 - accuracy: 0.9493 - val_loss: 0.2238 - val_accuracy: 0.9142\n",
            "Epoch 14/20\n",
            "173/173 [==============================] - 2s 12ms/step - loss: 0.1530 - accuracy: 0.9505 - val_loss: 0.1789 - val_accuracy: 0.9361\n",
            "Epoch 15/20\n",
            "173/173 [==============================] - 2s 12ms/step - loss: 0.1535 - accuracy: 0.9505 - val_loss: 0.1862 - val_accuracy: 0.9385\n",
            "Epoch 16/20\n",
            "173/173 [==============================] - 2s 12ms/step - loss: 0.1503 - accuracy: 0.9504 - val_loss: 0.1698 - val_accuracy: 0.9405\n",
            "Epoch 17/20\n",
            "173/173 [==============================] - 2s 12ms/step - loss: 0.1486 - accuracy: 0.9517 - val_loss: 0.1970 - val_accuracy: 0.9439\n",
            "Epoch 18/20\n",
            "173/173 [==============================] - 2s 12ms/step - loss: 0.1445 - accuracy: 0.9536 - val_loss: 0.1716 - val_accuracy: 0.9427\n",
            "Epoch 19/20\n",
            "173/173 [==============================] - 2s 12ms/step - loss: 0.1427 - accuracy: 0.9527 - val_loss: 0.1685 - val_accuracy: 0.9416\n",
            "Epoch 20/20\n",
            "173/173 [==============================] - 2s 12ms/step - loss: 0.1399 - accuracy: 0.9551 - val_loss: 0.1947 - val_accuracy: 0.9327\n"
          ],
          "name": "stdout"
        }
      ]
    },
    {
      "cell_type": "markdown",
      "metadata": {
        "id": "xqTbUS6NUY7x"
      },
      "source": [
        "# Step 5 : Checking Model Accuracy and Entropy Loss"
      ]
    },
    {
      "cell_type": "code",
      "metadata": {
        "id": "6v8cBTJBoMt5",
        "outputId": "21e5bddc-eac1-4360-b68c-d06b590bea52",
        "colab": {
          "base_uri": "https://localhost:8080/",
          "height": 581
        }
      },
      "source": [
        "fig,axes = plt.subplots(nrows=2,ncols=1,figsize= (11,8))\n",
        "#epochs = n_epochs\n",
        "axes[0].plot(results.history.history['accuracy'],label='Training Accuracy')\n",
        "axes[0].plot(results.history.history['val_accuracy'],label='Vaidation Accuracy')\n",
        "axes[0].set_xlabel('No of Epochs',fontsize=14)\n",
        "axes[0].set_ylabel('Accuracy (%)',fontsize=14)\n",
        "axes[0].set_yticks(np.arange(0.5,1.01,0.05))\n",
        "axes[0].legend()\n",
        "axes[0].set_title('Custom CNN Results : Model Accuracy',fontsize=16)\n",
        "\n",
        "axes[1].plot(results.history.history['loss'],label='Training loss')\n",
        "axes[1].plot(results.history.history['val_loss'],label='Validation loss')\n",
        "axes[1].set_xlabel('No of Epochs',fontsize=14)\n",
        "axes[1].set_ylabel('Binary Cross Entropy',fontsize=14)\n",
        "axes[1].set_title('Custom CNN Results : Model Loss',fontsize=16)\n",
        "axes[1].legend()\n",
        "#axes[1].set_yticks(np.arange(0.0,0.9,0.1))\n",
        "\n",
        "\n",
        "plt.tight_layout()\n",
        "plt.show()"
      ],
      "execution_count": 45,
      "outputs": [
        {
          "output_type": "display_data",
          "data": {
            "image/png": "[encoded data removed]",
            "text/plain": [
              "<Figure size 792x576 with 2 Axes>"
            ]
          },
          "metadata": {
            "tags": []
          }
        }
      ]
    },
    {
      "cell_type": "code",
      "metadata": {
        "id": "TEf53F2NsIvs"
      },
      "source": [
        "results.save('/content/drive/My Drive/DS-Python-notebooks/My-Projects/Malaria/custom_cnn_lenet_val_9539_oct_24_1100.h5')"
      ],
      "execution_count": null,
      "outputs": []
    },
    {
      "cell_type": "code",
      "metadata": {
        "id": "Z1OdDplFQniH"
      },
      "source": [
        ""
      ],
      "execution_count": null,
      "outputs": []
    }
  ]
}
