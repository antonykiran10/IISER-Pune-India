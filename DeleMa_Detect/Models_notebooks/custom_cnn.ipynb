{
  "nbformat": 4,
  "nbformat_minor": 0,
  "metadata": {
    "colab": {
      "name": "custom_cnn.ipynb",
      "provenance": []
    },
    "kernelspec": {
      "name": "python3",
      "display_name": "Python 3"
    },
    "accelerator": "GPU"
  },
  "cells": [
    {
      "cell_type": "markdown",
      "metadata": {
        "id": "odHnCrgRDJH3"
      },
      "source": [
        "# Step 1 : Downaload the dataset and Unzip into two directories"
      ]
    },
    {
      "cell_type": "code",
      "metadata": {
        "id": "R2N3aLwsF5I3",
        "outputId": "461568fc-1b76-488a-a3e9-bf825548feed",
        "colab": {
          "base_uri": "https://localhost:8080/",
          "height": 208
        }
      },
      "source": [
        "!wget https://ceb.nlm.nih.gov/proj/malaria/cell_images.zip"
      ],
      "execution_count": 1,
      "outputs": [
        {
          "output_type": "stream",
          "text": [
            "--2020-10-24 05:21:36--  https://ceb.nlm.nih.gov/proj/malaria/cell_images.zip\n",
            "Resolving ceb.nlm.nih.gov (ceb.nlm.nih.gov)... 130.14.52.15, 2607:f220:41e:7052::15\n",
            "Connecting to ceb.nlm.nih.gov (ceb.nlm.nih.gov)|130.14.52.15|:443... connected.\n",
            "HTTP request sent, awaiting response... 200 OK\n",
            "Length: 353452851 (337M) [application/zip]\n",
            "Saving to: ‘cell_images.zip’\n",
            "\n",
            "cell_images.zip     100%[===================>] 337.08M  99.1MB/s    in 3.5s    \n",
            "\n",
            "2020-10-24 05:21:39 (97.1 MB/s) - ‘cell_images.zip’ saved [353452851/353452851]\n",
            "\n"
          ],
          "name": "stdout"
        }
      ]
    },
    {
      "cell_type": "code",
      "metadata": {
        "id": "6SCMsysIGZk0"
      },
      "source": [
        "!unzip cell_images.zip"
      ],
      "execution_count": null,
      "outputs": []
    },
    {
      "cell_type": "code",
      "metadata": {
        "id": "3-WtlT-gGulH",
        "outputId": "b70085a9-c9ed-48ef-82f8-f8d2be642e9c",
        "colab": {
          "base_uri": "https://localhost:8080/",
          "height": 295
        }
      },
      "source": [
        "!apt install tree"
      ],
      "execution_count": 3,
      "outputs": [
        {
          "output_type": "stream",
          "text": [
            "Reading package lists... Done\n",
            "Building dependency tree       \n",
            "Reading state information... Done\n",
            "The following NEW packages will be installed:\n",
            "  tree\n",
            "0 upgraded, 1 newly installed, 0 to remove and 21 not upgraded.\n",
            "Need to get 40.7 kB of archives.\n",
            "After this operation, 105 kB of additional disk space will be used.\n",
            "Get:1 http://archive.ubuntu.com/ubuntu bionic/universe amd64 tree amd64 1.7.0-5 [40.7 kB]\n",
            "Fetched 40.7 kB in 0s (150 kB/s)\n",
            "Selecting previously unselected package tree.\n",
            "(Reading database ... 144611 files and directories currently installed.)\n",
            "Preparing to unpack .../tree_1.7.0-5_amd64.deb ...\n",
            "Unpacking tree (1.7.0-5) ...\n",
            "Setting up tree (1.7.0-5) ...\n",
            "Processing triggers for man-db (2.8.3-2ubuntu0.1) ...\n"
          ],
          "name": "stdout"
        }
      ]
    },
    {
      "cell_type": "code",
      "metadata": {
        "id": "JdiygXyUG-Cz",
        "outputId": "a86d3958-4458-40a8-8ee2-48a58205da98",
        "colab": {
          "base_uri": "https://localhost:8080/",
          "height": 104
        }
      },
      "source": [
        "# Show directory structure\n",
        "!tree --dirsfirst --filelimit 10 /content/cell_images/"
      ],
      "execution_count": 4,
      "outputs": [
        {
          "output_type": "stream",
          "text": [
            "/content/cell_images/\n",
            "├── Parasitized [13780 entries exceeds filelimit, not opening dir]\n",
            "└── Uninfected [13780 entries exceeds filelimit, not opening dir]\n",
            "\n",
            "2 directories, 0 files\n"
          ],
          "name": "stdout"
        }
      ]
    },
    {
      "cell_type": "code",
      "metadata": {
        "id": "6wHZI-YdHBbi",
        "outputId": "53ccb8b0-a89b-457a-afc1-0c377ca808e0",
        "colab": {
          "base_uri": "https://localhost:8080/",
          "height": 541
        }
      },
      "source": [
        "!pip install keras-tuner"
      ],
      "execution_count": 5,
      "outputs": [
        {
          "output_type": "stream",
          "text": [
            "Collecting keras-tuner\n",
            "\u001b[?25l  Downloading https://files.pythonhosted.org/packages/a7/f7/4b41b6832abf4c9bef71a664dc563adb25afc5812831667c6db572b1a261/keras-tuner-1.0.1.tar.gz (54kB)\n",
            "\r\u001b[K     |██████                          | 10kB 26.2MB/s eta 0:00:01\r\u001b[K     |████████████                    | 20kB 25.9MB/s eta 0:00:01\r\u001b[K     |██████████████████              | 30kB 31.2MB/s eta 0:00:01\r\u001b[K     |████████████████████████        | 40kB 16.3MB/s eta 0:00:01\r\u001b[K     |██████████████████████████████  | 51kB 13.0MB/s eta 0:00:01\r\u001b[K     |████████████████████████████████| 61kB 6.6MB/s \n",
            "\u001b[?25hRequirement already satisfied: future in /usr/local/lib/python3.6/dist-packages (from keras-tuner) (0.16.0)\n",
            "Requirement already satisfied: numpy in /usr/local/lib/python3.6/dist-packages (from keras-tuner) (1.18.5)\n",
            "Requirement already satisfied: tabulate in /usr/local/lib/python3.6/dist-packages (from keras-tuner) (0.8.7)\n",
            "Collecting terminaltables\n",
            "  Downloading https://files.pythonhosted.org/packages/9b/c4/4a21174f32f8a7e1104798c445dacdc1d4df86f2f26722767034e4de4bff/terminaltables-3.1.0.tar.gz\n",
            "Collecting colorama\n",
            "  Downloading https://files.pythonhosted.org/packages/44/98/5b86278fbbf250d239ae0ecb724f8572af1c91f4a11edf4d36a206189440/colorama-0.4.4-py2.py3-none-any.whl\n",
            "Requirement already satisfied: tqdm in /usr/local/lib/python3.6/dist-packages (from keras-tuner) (4.41.1)\n",
            "Requirement already satisfied: requests in /usr/local/lib/python3.6/dist-packages (from keras-tuner) (2.23.0)\n",
            "Requirement already satisfied: scipy in /usr/local/lib/python3.6/dist-packages (from keras-tuner) (1.4.1)\n",
            "Requirement already satisfied: scikit-learn in /usr/local/lib/python3.6/dist-packages (from keras-tuner) (0.22.2.post1)\n",
            "Requirement already satisfied: chardet<4,>=3.0.2 in /usr/local/lib/python3.6/dist-packages (from requests->keras-tuner) (3.0.4)\n",
            "Requirement already satisfied: certifi>=2017.4.17 in /usr/local/lib/python3.6/dist-packages (from requests->keras-tuner) (2020.6.20)\n",
            "Requirement already satisfied: urllib3!=1.25.0,!=1.25.1,<1.26,>=1.21.1 in /usr/local/lib/python3.6/dist-packages (from requests->keras-tuner) (1.24.3)\n",
            "Requirement already satisfied: idna<3,>=2.5 in /usr/local/lib/python3.6/dist-packages (from requests->keras-tuner) (2.10)\n",
            "Requirement already satisfied: joblib>=0.11 in /usr/local/lib/python3.6/dist-packages (from scikit-learn->keras-tuner) (0.16.0)\n",
            "Building wheels for collected packages: keras-tuner, terminaltables\n",
            "  Building wheel for keras-tuner (setup.py) ... \u001b[?25l\u001b[?25hdone\n",
            "  Created wheel for keras-tuner: filename=keras_tuner-1.0.1-cp36-none-any.whl size=73200 sha256=51b5f5e9e8d75f6149734d8f3b54c0ed1b2817b33c9a7bebc378f68ee83dc9f2\n",
            "  Stored in directory: /root/.cache/pip/wheels/b9/cc/62/52716b70dd90f3db12519233c3a93a5360bc672da1a10ded43\n",
            "  Building wheel for terminaltables (setup.py) ... \u001b[?25l\u001b[?25hdone\n",
            "  Created wheel for terminaltables: filename=terminaltables-3.1.0-cp36-none-any.whl size=15356 sha256=58510a50733baad2088b0008b8465227235906f42710845c9b335e220d24dde7\n",
            "  Stored in directory: /root/.cache/pip/wheels/30/6b/50/6c75775b681fb36cdfac7f19799888ef9d8813aff9e379663e\n",
            "Successfully built keras-tuner terminaltables\n",
            "Installing collected packages: terminaltables, colorama, keras-tuner\n",
            "Successfully installed colorama-0.4.4 keras-tuner-1.0.1 terminaltables-3.1.0\n"
          ],
          "name": "stdout"
        }
      ]
    },
    {
      "cell_type": "code",
      "metadata": {
        "id": "SSHzvnu2HFph",
        "outputId": "8a6fdbc3-48da-482d-f3eb-9e845ce6c249",
        "colab": {
          "base_uri": "https://localhost:8080/",
          "height": 34
        }
      },
      "source": [
        "#ensorflow and Keras Utils \n",
        "import tensorflow as tf\n",
        "from tensorflow import keras\n",
        "from tensorflow.keras import models, layers\n",
        "from tensorflow.keras import Sequential \n",
        "from tensorflow.keras.layers import Dense, Conv2D, MaxPooling2D, Flatten, BatchNormalization, Activation, Dropout\n",
        "from tensorflow.keras.preprocessing.image import ImageDataGenerator\n",
        "from tensorflow.keras import optimizers\n",
        "\n",
        "# Numpy for Matrix Manipulatons \n",
        "import numpy as np\n",
        "\n",
        "# Matplotlib and Seaborn for visualization\n",
        "import matplotlib.pyplot as plt\n",
        "import seaborn as sns ; sns.set()\n",
        "\n",
        "# Sklearn for Model Utils\n",
        "from sklearn.model_selection import train_test_split\n",
        "print('Tensorflow Version:',tf.__version__)"
      ],
      "execution_count": 21,
      "outputs": [
        {
          "output_type": "stream",
          "text": [
            "Tensorflow Version: 2.3.0\n"
          ],
          "name": "stdout"
        }
      ]
    },
    {
      "cell_type": "markdown",
      "metadata": {
        "id": "1Ml2QbVPD3FX"
      },
      "source": [
        "# Step 2 : Data Preprocessing"
      ]
    },
    {
      "cell_type": "code",
      "metadata": {
        "id": "1NBphK5ZHQmo"
      },
      "source": [
        "data_directory = '/content/cell_images'\n",
        "image_width = 64\n",
        "image_height = 64\n",
        "m = 27558\n",
        "\n",
        "# Data Augmentation\n",
        "datagen = ImageDataGenerator(shear_range=0.2,zoom_range=0.2,horizontal_flip=True,vertical_flip=True,rescale=1/255.0)  "
      ],
      "execution_count": 10,
      "outputs": []
    },
    {
      "cell_type": "code",
      "metadata": {
        "id": "5P7Wm-dTHS_4",
        "outputId": "b851f1a0-1708-492c-f808-7b5e6ed6cb02",
        "colab": {
          "base_uri": "https://localhost:8080/",
          "height": 34
        }
      },
      "source": [
        "train_data_generator = datagen.flow_from_directory(directory='/content/cell_images', target_size=(image_width,image_height),\n",
        "                                                   class_mode = 'binary', batch_size = m, shuffle=True, subset='training'\n",
        "                            \n",
        "\n",
        "# We use Data Generator to create a tensor dataset of all images form the given directories"
      ],
      "execution_count": 11,
      "outputs": [
        {
          "output_type": "stream",
          "text": [
            "Found 27558 images belonging to 2 classes.\n"
          ],
          "name": "stdout"
        }
      ]
    },
    {
      "cell_type": "code",
      "metadata": {
        "id": "ZDRnurXFHgpj",
        "outputId": "baabd245-f136-43d6-c1c1-a141238bea2b",
        "colab": {
          "base_uri": "https://localhost:8080/",
          "height": 52
        }
      },
      "source": [
        "X = train_data_generator[0][0]\n",
        "Y = train_data_generator[0][1]\n",
        "\n",
        "#  Here we separate the X and Y directories\n",
        "print(X.shape)\n",
        "print(Y.shape)"
      ],
      "execution_count": 12,
      "outputs": [
        {
          "output_type": "stream",
          "text": [
            "(27558, 64, 64, 3)\n",
            "(27558,)\n"
          ],
          "name": "stdout"
        }
      ]
    },
    {
      "cell_type": "code",
      "metadata": {
        "id": "uAiXq5MdX69d"
      },
      "source": [
        "X_train, X_test, y_train, y_test = train_test_split(X, Y, test_size=0.2, random_state=42)\n",
        " \n",
        "# We perform a 80/20 Train test Split of the Dataset"
      ],
      "execution_count": 17,
      "outputs": []
    },
    {
      "cell_type": "code",
      "metadata": {
        "id": "8LHCiMNpI6HC",
        "outputId": "97f97b17-7c36-4a63-cb66-281bb935df86",
        "colab": {
          "base_uri": "https://localhost:8080/",
          "height": 52
        }
      },
      "source": [
        "print(X_train.shape, y_train.shape) \n",
        "# use this data set for 80% training + 20% validation\n",
        "\n",
        "print(X_test.shape,y_test.shape) \n",
        "# use this data for testing final score"
      ],
      "execution_count": 18,
      "outputs": [
        {
          "output_type": "stream",
          "text": [
            "(22046, 64, 64, 3) (22046,)\n",
            "(5512, 64, 64, 3) (5512,)\n"
          ],
          "name": "stdout"
        }
      ]
    },
    {
      "cell_type": "markdown",
      "metadata": {
        "id": "gpN2kABeUPtB"
      },
      "source": [
        "# Step 3 : Building the Model"
      ]
    },
    {
      "cell_type": "code",
      "metadata": {
        "id": "nr7Pp9A1FXJ1"
      },
      "source": [
        "def build_model(X_train, y_train, X_val, y_val,epochs): \n",
        "\n",
        "    # Inspired from LENET 5 Architecture\n",
        "    \n",
        "    model = Sequential()\n",
        "\n",
        "    model.add(Conv2D(6, (5,5), activation = 'relu', input_shape = X_train.shape[1:]))\n",
        "    model.add(MaxPooling2D(pool_size=(2,2), strides=(2,2)))\n",
        "    model.add(BatchNormalization(axis = -1))\n",
        "    model.add(Dropout(0.2))\n",
        "\n",
        "    model.add(Conv2D(10, (5,5), activation = 'relu'))\n",
        "    model.add(MaxPooling2D((2,2),strides=(1,1)))\n",
        "    model.add(BatchNormalization(axis = -1))\n",
        "    model.add(Dropout(0.2))\n",
        "\n",
        "    model.add(Conv2D(16, (5,5), activation = 'relu'))\n",
        "    model.add(MaxPooling2D((2,2),strides=(1,1)))\n",
        "    model.add(BatchNormalization(axis = -1))\n",
        "    model.add(Dropout(0.2))\n",
        "\n",
        "    model.add(Flatten())\n",
        "\n",
        "    model.add(Dense(120, activation = 'relu'))\n",
        "    model.add(BatchNormalization(axis = -1))\n",
        "    model.add(Dropout(0.5))\n",
        "\n",
        "    model.add(Dense(84, activation = 'relu'))\n",
        "    model.add(BatchNormalization(axis = -1))\n",
        "    model.add(Dropout(0.5))\n",
        "\n",
        "    model.add(Dense(10, activation = 'relu'))\n",
        "    model.add(BatchNormalization(axis = -1))\n",
        "\n",
        "    model.add(Dense(1, activation = 'sigmoid'))\n",
        "\n",
        "    lr_schedule = keras.optimizers.schedules.ExponentialDecay(\n",
        "                                initial_learning_rate=2e-3,\n",
        "                                decay_steps=10000,\n",
        "                                decay_rate=0.9)\n",
        "\n",
        "    model.compile(optimizer=keras.optimizers.Adam(learning_rate=lr_schedule),\n",
        "              loss=\"binary_crossentropy\",\n",
        "              metrics=[\"accuracy\"])\n",
        "\n",
        "    model.fit(X_train, y_train, batch_size=128, epochs=epochs, validation_data = (X_val, y_val))\n",
        "\n",
        "    return model"
      ],
      "execution_count": 64,
      "outputs": []
    },
    {
      "cell_type": "markdown",
      "metadata": {
        "id": "l1Ppbak0UTc6"
      },
      "source": [
        "# Step 4 : Training the Model"
      ]
    },
    {
      "cell_type": "code",
      "metadata": {
        "id": "KpyEa86hGclb",
        "outputId": "aa6079e0-fe5d-453d-f050-a9bdabaa760e",
        "colab": {
          "base_uri": "https://localhost:8080/",
          "height": 1000
        }
      },
      "source": [
        "results = build_model(X_train, y_train,X_test, y_test, 40)"
      ],
      "execution_count": 65,
      "outputs": [
        {
          "output_type": "stream",
          "text": [
            "Epoch 1/40\n",
            "173/173 [==============================] - 2s 14ms/step - loss: 0.5167 - accuracy: 0.7497 - val_loss: 2.1308 - val_accuracy: 0.5022\n",
            "Epoch 2/40\n",
            "173/173 [==============================] - 2s 12ms/step - loss: 0.2348 - accuracy: 0.9182 - val_loss: 1.5107 - val_accuracy: 0.6029\n",
            "Epoch 3/40\n",
            "173/173 [==============================] - 2s 12ms/step - loss: 0.1973 - accuracy: 0.9355 - val_loss: 0.1986 - val_accuracy: 0.9336\n",
            "Epoch 4/40\n",
            "173/173 [==============================] - 2s 12ms/step - loss: 0.1778 - accuracy: 0.9438 - val_loss: 0.1697 - val_accuracy: 0.9452\n",
            "Epoch 5/40\n",
            "173/173 [==============================] - 2s 12ms/step - loss: 0.1751 - accuracy: 0.9460 - val_loss: 0.1649 - val_accuracy: 0.9458\n",
            "Epoch 6/40\n",
            "173/173 [==============================] - 2s 12ms/step - loss: 0.1599 - accuracy: 0.9494 - val_loss: 0.1742 - val_accuracy: 0.9436\n",
            "Epoch 7/40\n",
            "173/173 [==============================] - 2s 12ms/step - loss: 0.1627 - accuracy: 0.9482 - val_loss: 0.1823 - val_accuracy: 0.9421\n",
            "Epoch 8/40\n",
            "173/173 [==============================] - 2s 12ms/step - loss: 0.1556 - accuracy: 0.9506 - val_loss: 0.1726 - val_accuracy: 0.9452\n",
            "Epoch 9/40\n",
            "173/173 [==============================] - 2s 12ms/step - loss: 0.1590 - accuracy: 0.9492 - val_loss: 0.2302 - val_accuracy: 0.9178\n",
            "Epoch 10/40\n",
            "173/173 [==============================] - 2s 13ms/step - loss: 0.1537 - accuracy: 0.9505 - val_loss: 0.1733 - val_accuracy: 0.9481\n",
            "Epoch 11/40\n",
            "173/173 [==============================] - 2s 12ms/step - loss: 0.1491 - accuracy: 0.9512 - val_loss: 0.1617 - val_accuracy: 0.9497\n",
            "Epoch 12/40\n",
            "173/173 [==============================] - 2s 13ms/step - loss: 0.1474 - accuracy: 0.9524 - val_loss: 0.1655 - val_accuracy: 0.9434\n",
            "Epoch 13/40\n",
            "173/173 [==============================] - 2s 12ms/step - loss: 0.1435 - accuracy: 0.9543 - val_loss: 0.1513 - val_accuracy: 0.9487\n",
            "Epoch 14/40\n",
            "173/173 [==============================] - 2s 12ms/step - loss: 0.1446 - accuracy: 0.9533 - val_loss: 0.1374 - val_accuracy: 0.9550\n",
            "Epoch 15/40\n",
            "173/173 [==============================] - 2s 12ms/step - loss: 0.1390 - accuracy: 0.9535 - val_loss: 0.1476 - val_accuracy: 0.9499\n",
            "Epoch 16/40\n",
            "173/173 [==============================] - 2s 12ms/step - loss: 0.1397 - accuracy: 0.9556 - val_loss: 0.1576 - val_accuracy: 0.9485\n",
            "Epoch 17/40\n",
            "173/173 [==============================] - 2s 12ms/step - loss: 0.1381 - accuracy: 0.9553 - val_loss: 0.2044 - val_accuracy: 0.9450\n",
            "Epoch 18/40\n",
            "173/173 [==============================] - 2s 12ms/step - loss: 0.1357 - accuracy: 0.9565 - val_loss: 0.1521 - val_accuracy: 0.9514\n",
            "Epoch 19/40\n",
            "173/173 [==============================] - 2s 12ms/step - loss: 0.1332 - accuracy: 0.9569 - val_loss: 0.1523 - val_accuracy: 0.9494\n",
            "Epoch 20/40\n",
            "173/173 [==============================] - 2s 12ms/step - loss: 0.1320 - accuracy: 0.9573 - val_loss: 0.1536 - val_accuracy: 0.9501\n",
            "Epoch 21/40\n",
            "173/173 [==============================] - 2s 12ms/step - loss: 0.1293 - accuracy: 0.9585 - val_loss: 0.1531 - val_accuracy: 0.9492\n",
            "Epoch 22/40\n",
            "173/173 [==============================] - 2s 12ms/step - loss: 0.1258 - accuracy: 0.9596 - val_loss: 0.1413 - val_accuracy: 0.9556\n",
            "Epoch 23/40\n",
            "173/173 [==============================] - 2s 12ms/step - loss: 0.1290 - accuracy: 0.9585 - val_loss: 0.1832 - val_accuracy: 0.9450\n",
            "Epoch 24/40\n",
            "173/173 [==============================] - 2s 12ms/step - loss: 0.1270 - accuracy: 0.9593 - val_loss: 0.1621 - val_accuracy: 0.9503\n",
            "Epoch 25/40\n",
            "173/173 [==============================] - 2s 12ms/step - loss: 0.1239 - accuracy: 0.9605 - val_loss: 0.1562 - val_accuracy: 0.9485\n",
            "Epoch 26/40\n",
            "173/173 [==============================] - 2s 12ms/step - loss: 0.1224 - accuracy: 0.9608 - val_loss: 0.1490 - val_accuracy: 0.9530\n",
            "Epoch 27/40\n",
            "173/173 [==============================] - 2s 12ms/step - loss: 0.1234 - accuracy: 0.9594 - val_loss: 0.1857 - val_accuracy: 0.9474\n",
            "Epoch 28/40\n",
            "173/173 [==============================] - 2s 12ms/step - loss: 0.1221 - accuracy: 0.9598 - val_loss: 0.1506 - val_accuracy: 0.9516\n",
            "Epoch 29/40\n",
            "173/173 [==============================] - 2s 12ms/step - loss: 0.1217 - accuracy: 0.9597 - val_loss: 0.1615 - val_accuracy: 0.9463\n",
            "Epoch 30/40\n",
            "173/173 [==============================] - 2s 12ms/step - loss: 0.1172 - accuracy: 0.9621 - val_loss: 0.1515 - val_accuracy: 0.9521\n",
            "Epoch 31/40\n",
            "173/173 [==============================] - 2s 12ms/step - loss: 0.1148 - accuracy: 0.9634 - val_loss: 0.1496 - val_accuracy: 0.9501\n",
            "Epoch 32/40\n",
            "173/173 [==============================] - 2s 12ms/step - loss: 0.1172 - accuracy: 0.9616 - val_loss: 0.1515 - val_accuracy: 0.9528\n",
            "Epoch 33/40\n",
            "173/173 [==============================] - 2s 12ms/step - loss: 0.1157 - accuracy: 0.9621 - val_loss: 0.1626 - val_accuracy: 0.9512\n",
            "Epoch 34/40\n",
            "173/173 [==============================] - 2s 12ms/step - loss: 0.1152 - accuracy: 0.9621 - val_loss: 0.1630 - val_accuracy: 0.9501\n",
            "Epoch 35/40\n",
            "173/173 [==============================] - 2s 12ms/step - loss: 0.1081 - accuracy: 0.9655 - val_loss: 0.1413 - val_accuracy: 0.9539\n",
            "Epoch 36/40\n",
            "173/173 [==============================] - 2s 12ms/step - loss: 0.1105 - accuracy: 0.9633 - val_loss: 0.1785 - val_accuracy: 0.9429\n",
            "Epoch 37/40\n",
            "173/173 [==============================] - 2s 12ms/step - loss: 0.1068 - accuracy: 0.9655 - val_loss: 0.1779 - val_accuracy: 0.9430\n",
            "Epoch 38/40\n",
            "173/173 [==============================] - 2s 12ms/step - loss: 0.1120 - accuracy: 0.9639 - val_loss: 0.1532 - val_accuracy: 0.9528\n",
            "Epoch 39/40\n",
            "173/173 [==============================] - 2s 12ms/step - loss: 0.1051 - accuracy: 0.9664 - val_loss: 0.1912 - val_accuracy: 0.9472\n",
            "Epoch 40/40\n",
            "173/173 [==============================] - 2s 12ms/step - loss: 0.1054 - accuracy: 0.9661 - val_loss: 0.1703 - val_accuracy: 0.9436\n"
          ],
          "name": "stdout"
        }
      ]
    },
    {
      "cell_type": "markdown",
      "metadata": {
        "id": "xqTbUS6NUY7x"
      },
      "source": [
        "# Step 5 : Checking Model Accuracy and Entropy Loss"
      ]
    },
    {
      "cell_type": "code",
      "metadata": {
        "id": "6v8cBTJBoMt5",
        "outputId": "45344d89-ab83-41d1-95d0-d85ca50f66b0",
        "colab": {
          "base_uri": "https://localhost:8080/",
          "height": 581
        }
      },
      "source": [
        "fig,axes = plt.subplots(nrows=2,ncols=1,figsize= (11,8))\n",
        "#epochs = n_epochs\n",
        "axes[0].plot(results.history.history['accuracy'],label='Training Accuracy')\n",
        "axes[0].plot(results.history.history['val_accuracy'],label='Vaidation Accuracy')\n",
        "axes[0].set_xlabel('No of Epochs',fontsize=14)\n",
        "axes[0].set_ylabel('Accuracy (%)',fontsize=14)\n",
        "axes[0].set_yticks(np.arange(0.5,1.01,0.05))\n",
        "axes[0].set_title('Custom CNN Results Model Accuracy',fontsize=16)\n",
        "\n",
        "axes[1].plot(results.history.history['loss'],label='Training loss')\n",
        "axes[1].plot(results.history.history['val_loss'],label='Validation loss')\n",
        "axes[1].set_xlabel('No of Epochs',fontsize=14)\n",
        "axes[1].set_ylabel('Binary Cross Entropy',fontsize=14)\n",
        "axes[1].set_title('Custom CNN Results Model Entropy',fontsize=16)\n",
        "#axes[1].set_yticks(np.arange(0.0,0.9,0.1))\n",
        "\n",
        "\n",
        "plt.tight_layout()\n",
        "plt.show()"
      ],
      "execution_count": 66,
      "outputs": [
        {
          "output_type": "display_data",
          "data": {
            "image/png": "[encoded data removed]",
            "text/plain": [
              "<Figure size 792x576 with 2 Axes>"
            ]
          },
          "metadata": {
            "tags": []
          }
        }
      ]
    },
    {
      "cell_type": "code",
      "metadata": {
        "id": "TEf53F2NsIvs"
      },
      "source": [
        "results.save('/content/drive/My Drive/DS-Python-notebooks/My-Projects/Malaria/custom_cnn_lenet_val_9539_oct_24_1100.h5')"
      ],
      "execution_count": 67,
      "outputs": []
    },
    {
      "cell_type": "code",
      "metadata": {
        "id": "Z1OdDplFQniH"
      },
      "source": [
        ""
      ],
      "execution_count": null,
      "outputs": []
    }
  ]
}